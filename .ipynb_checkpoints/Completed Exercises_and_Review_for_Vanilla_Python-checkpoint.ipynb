{
 "cells": [
  {
   "cell_type": "markdown",
   "metadata": {},
   "source": [
    "# Python Review & Exercises\n",
    "\n",
    "These exercise questions are developed to help you review concepts and skills we covered in the first half of the class, where we prepare you to get started with following topics:\n",
    "\n",
    "- Variables, Statements, Expressions\n",
    "- Operators and Calculations\n",
    "- If statements\n",
    "- Function definitions and calls\n",
    "- Iterations (at least for loops)\n",
    "- strings\n",
    "- lists\n",
    "- dictionaries\n",
    "\n",
    "Remember that following questions require __more than one topics__ from above."
   ]
  },
  {
   "cell_type": "markdown",
   "metadata": {},
   "source": [
    "## Ground Rules\n",
    "\n",
    "Below rules define how this works:\n",
    "\n",
    "1. Please complete these questions in class, and if needed, after class, no later than __10/27__. You should submit the completed notebook back via Github Classroom.\n",
    "2. This is neither an exam nor an assignment - I will __NOT__ grade these. This is for you to test whether you are ready to move onto the next part of the class.\n",
    "3. Please __work with your peers__. You can learn much more if you work actively with your peers, by teaching each other. If you have not started doing so, this may be the perfect opportunity.\n",
    "4. Be __active__ in this class. I want to hear your opinions/soluions to problems below. So please speak up! This is a fair learning environment.\n",
    "5. Do __not__ try to copy code from others, include the Internet. The purpose is not to complete these questions, rather to test where your strengths and weaknesses are. Do not __fake__ it!\n",
    "\n",
    "Okay, rules are clear, let's start!"
   ]
  },
  {
   "cell_type": "markdown",
   "metadata": {},
   "source": [
    "## Q1. Code Explanation Problem\n",
    "\n",
    "#### Common Characters between Two Strings\n",
    "\n",
    "I was asked to develop a function (`common_char()`) to find out what common charaters are shared between two strings. I have provided two solutions to the problem. \n",
    "\n",
    "1. In solution 1 use a _one-liner_ for loop to solve the problem. Please write out the function in multiple lines (the regular for loop with an if statement) to make sure you understand how this works;\n",
    "2. In solution 2 I used something you have never seen in this class (__python sets__). In real world you may come across codes that you have never seen. Use Google to help you understand how _sets_ work in Python (__python sets__ might be a good search term for starters). Write you understanding in comments."
   ]
  },
  {
   "cell_type": "code",
   "execution_count": 391,
   "metadata": {
    "collapsed": false
   },
   "outputs": [
    {
     "data": {
      "text/plain": [
       "['a', 'b']"
      ]
     },
     "execution_count": 391,
     "metadata": {},
     "output_type": "execute_result"
    }
   ],
   "source": [
    "s1 = 'abc'\n",
    "s2 = 'bad'\n",
    "\n",
    "# solution 1\n",
    "def common_char1(s1, s2):\n",
    "    return [c1 for c1 in s1 if c1 in s2]\n",
    "    \n",
    "common_char1(s1, s2)"
   ]
  },
  {
   "cell_type": "code",
   "execution_count": 392,
   "metadata": {},
   "outputs": [
    {
     "data": {
      "text/plain": [
       "['p', 'i']"
      ]
     },
     "execution_count": 392,
     "metadata": {},
     "output_type": "execute_result"
    }
   ],
   "source": [
    "# Sara - multiple lines\n",
    "# create empty list\n",
    "# for each character in s1, iterate and look for each character in s2, if it's there, append it to res_lst\n",
    "s3 = 'poi'\n",
    "s4 = 'pin'\n",
    "def common_char2(): # this empty parentheses has no arguments, shouldn't build functions with no arguments\n",
    "    res_lst = []\n",
    "    for c1 in s3:\n",
    "        if c1 in s4:\n",
    "        #print(c1)\n",
    "            res_lst.append(c1)\n",
    "        else:\n",
    "            pass\n",
    "    return(res_lst)\n",
    "\n",
    "common_char2()"
   ]
  },
  {
   "cell_type": "code",
   "execution_count": 393,
   "metadata": {},
   "outputs": [
    {
     "data": {
      "text/plain": [
       "['p']"
      ]
     },
     "execution_count": 393,
     "metadata": {},
     "output_type": "execute_result"
    }
   ],
   "source": [
    "# Sara - multiple lines - better\n",
    "# create empty list\n",
    "# for each character in s1, iterate and look for each character in s2, if it's there, append it to res_lst\n",
    "s3 = 'poi'\n",
    "s4 = 'pin'\n",
    "s5 = 'qap'\n",
    "def common_char4(s3,s4): # this has an argument\n",
    "    res_lstq = []\n",
    "    for x in s5:\n",
    "        if x in s3:\n",
    "        #print(c1)\n",
    "            res_lstq.append(x)\n",
    "        else:\n",
    "            pass\n",
    "    return(res_lstq)\n",
    "    \n",
    "common_char4(s3, s4) # calls the function\n",
    "\n",
    "\n",
    "\n"
   ]
  },
  {
   "cell_type": "code",
   "execution_count": 394,
   "metadata": {},
   "outputs": [
    {
     "data": {
      "text/plain": [
       "['p']"
      ]
     },
     "execution_count": 394,
     "metadata": {},
     "output_type": "execute_result"
    }
   ],
   "source": [
    "s3 = 'puy'\n",
    "s4 = 'plm'\n",
    "s5 = 'qap'\n",
    "\n",
    "def common_char66(s3,s4): # this empty parentheses has no arguments, shouldn't build functions with no arguments\n",
    "    res_lstqq = []\n",
    "    for c1 in s5:\n",
    "        if c1 in s3:\n",
    "        #print(c1)\n",
    "            res_lstqq.append(c1)\n",
    "        else:\n",
    "            pass\n",
    "    return(res_lstqq)\n",
    "\n",
    "common_char66(s3,s4)\n"
   ]
  },
  {
   "cell_type": "code",
   "execution_count": 395,
   "metadata": {},
   "outputs": [
    {
     "data": {
      "text/plain": [
       "['a', 'b', 'c']"
      ]
     },
     "execution_count": 395,
     "metadata": {},
     "output_type": "execute_result"
    }
   ],
   "source": [
    "s3 = 'abc'\n",
    "def common_char3(s1, s2): # this empty parentheses has no arguments, shouldn't build functions with no arguments\n",
    "    res_lst3 = []\n",
    "    for x in s3:\n",
    "        if x in s1:\n",
    "        #print(c1)\n",
    "            res_lst3.append(x)\n",
    "        else:\n",
    "            pass\n",
    "    return(res_lst3)\n",
    "\n",
    "common_char3(s1,s2)"
   ]
  },
  {
   "cell_type": "code",
   "execution_count": 396,
   "metadata": {},
   "outputs": [
    {
     "data": {
      "text/plain": [
       "['b', 'a']"
      ]
     },
     "execution_count": 396,
     "metadata": {},
     "output_type": "execute_result"
    }
   ],
   "source": [
    "# this is how to define a function properly!!\n",
    "def common_char3(x, y): # this has an argument; python aligns values for the arguments and the values themselves - nametags -don't exist outside the room\n",
    "    res_lst = [] # to preassign values to arguments, use default value\n",
    "    for c in y:\n",
    "        if c in x:\n",
    "        #print(c1)\n",
    "            res_lst.append(c)\n",
    "        else:\n",
    "            pass\n",
    "    return res_lst\n",
    "\n",
    "common_char3(s1, s2) # global variables vs local variables; don't want too many global variables because there is the possibility of\n",
    "    # using same global variable in too many places. It's like having two people with the same name."
   ]
  },
  {
   "cell_type": "markdown",
   "metadata": {},
   "source": [
    "## Q2. Coding Problem\n",
    "\n",
    "Given any list of integers, write a function (`sort_even()`) to sort any even numbers in a sub-list, leave all odd numbers unsorted in another sub-list.\n",
    "\n",
    "#### Example:\n",
    "- sort_even([4, 3, 2, 1, 6]) --> [[2, 4, 6], [3, 1]]\n",
    "- sort_even([4, 2]) --> [[2, 4], []]\n",
    "- sort_even([3, 1] --> [[], [3, 1]]\n",
    "- sort_even([]) --> []\n",
    "\n",
    "#### HINTS:\n",
    "\n",
    "- Clearly we want to treat odd and even numbers separately - maybe two lists to hold the two parts?\n",
    "- You may want to go through the list using a loop."
   ]
  },
  {
   "cell_type": "code",
   "execution_count": 417,
   "metadata": {
    "collapsed": true
   },
   "outputs": [
    {
     "name": "stdout",
     "output_type": "stream",
     "text": [
      "[[24, 54, 66], [1, 77, 35, 25]]\n"
     ]
    }
   ],
   "source": [
    "# Write your code here - Sara\n",
    "# create empty list first\n",
    "# need output as list of lists\n",
    "\n",
    "even_lst = []\n",
    "odd_lst = []\n",
    "\n",
    "lst = [1, 54, 77, 35, 25, 66, 24]\n",
    "\n",
    "#def sort_even():\n",
    "\n",
    "for x in lst:\n",
    "    if x % 2 == 0:\n",
    "        even_lst.append(x) \n",
    "    else:\n",
    "        odd_lst.append(x)\n",
    "even_lst.sort() # put it out here so that it's at the end of all the iterations\n",
    "print([even_lst, odd_lst])"
   ]
  },
  {
   "cell_type": "code",
   "execution_count": 418,
   "metadata": {},
   "outputs": [
    {
     "data": {
      "text/plain": [
       "[[24, 54, 66], [1, 77, 35, 25]]"
      ]
     },
     "execution_count": 418,
     "metadata": {},
     "output_type": "execute_result"
    }
   ],
   "source": [
    "# make above into a function\n",
    "\n",
    "def sort_even(lst):\n",
    "    even_lst = []\n",
    "    odd_lst = []\n",
    "\n",
    "    #lst = [1, 54, 77, 35, 25, 66, 24]\n",
    "\n",
    "    #def sort_even():\n",
    "\n",
    "    for x in lst:\n",
    "        if x % 2 == 0:\n",
    "            even_lst.append(x) \n",
    "        else:\n",
    "            odd_lst.append(x)\n",
    "    even_lst.sort() # put it out here so that it's at the end of all the iterations\n",
    "    return([even_lst, odd_lst])\n",
    "\n",
    "sort_even([1, 54, 77, 35, 25, 66, 24])"
   ]
  },
  {
   "cell_type": "markdown",
   "metadata": {},
   "source": [
    "## Q3. Coding Problem\n",
    "\n",
    "Given a list of integers, write a function(`pair_func()`) that pairs the first number in an array with the last, the second number with the second to last, etc.\n",
    "\n",
    "#### HINTS: \n",
    "- If the list has an __odd length__, __repeat__ the middle element twice for the last pair.\n",
    "- Return an empty list if the input is an empty list.\n",
    "- Note that the result is a list of lists - so the returned `result_lst` should contain sub lists called `pairs`.\n",
    "\n",
    "#### Examples:\n",
    "- pair_func([1, 2, 3, 4, 5, 6, 7]) ➞ [[1, 7], [2, 6], [3, 5], [4, 4]]\n",
    "- pair_func([1, 2, 3, 4, 5, 6]) ➞ [[1, 6], [2, 5], [3, 4]]\n",
    "- pair_func([5, 9, 8, 1, 2]) ➞ [[5, 2], [9, 1], [8, 8]]\n",
    "- pair_func([]) ➞ []"
   ]
  },
  {
   "cell_type": "code",
   "execution_count": 399,
   "metadata": {
    "collapsed": true
   },
   "outputs": [
    {
     "data": {
      "text/plain": [
       "[[1, 7], [2, 6], [3, 5], [4, 4]]"
      ]
     },
     "execution_count": 399,
     "metadata": {},
     "output_type": "execute_result"
    }
   ],
   "source": [
    "# write you code here\n",
    "\n",
    "def pair_func(lst):\n",
    "    #print(lst)\n",
    "    pair_lst=[]\n",
    "    for i in range(int(len(lst)/2+0.5)):\n",
    "        #print(i)\n",
    "        pair_lst += [[lst[i], lst[-(i+1)]]]\n",
    "    return pair_lst\n",
    "\n",
    "pair_func([1,2,3,4,5,6,7])"
   ]
  },
  {
   "cell_type": "code",
   "execution_count": 400,
   "metadata": {},
   "outputs": [
    {
     "data": {
      "text/plain": [
       "[[1, 8], [2, 7], [3, 6], [4, 5]]"
      ]
     },
     "execution_count": 400,
     "metadata": {},
     "output_type": "execute_result"
    }
   ],
   "source": [
    "pair_func([1,2,3,4,5,6,7,8])"
   ]
  },
  {
   "cell_type": "markdown",
   "metadata": {},
   "source": [
    "## Q4. Coding Problem\n",
    "\n",
    "You work for a manufacturer, and have been asked to write a function (`profit_calc`) to calculate the _total profit_ made on the sales of a product.\n",
    "\n",
    "- You need to create a dictionary containing the cost price per unit (in dollars), sell price per unit (in dollars), and the starting inventory. The values in the dictionary should be __user inputs__.\n",
    "\n",
    "- Return the total profit made, rounded to the _nearest cent_ (2 digits after the decimal point). Assume __all of the inventory has been sold__.\n",
    "\n",
    "- Please insert the result from the function back to the original dictionary, use the key as `'profit'`.\n",
    "\n",
    "#### Example Dictionary:\n",
    "```python\n",
    "prod_dict = {\n",
    "  \"cost_price\": 32.67,\n",
    "  \"sell_price\": 45.00,\n",
    "  \"inventory\": 1200\n",
    "}\n",
    "```\n",
    "\n",
    "\n",
    "#### Example Output:\n",
    "```python\n",
    "# profit_calc(prod_dict) =  14796\n",
    "\n",
    "prod_dict = {\n",
    "  \"cost_price\": 32.67,\n",
    "  \"sell_price\": 45.00,\n",
    "  \"inventory\": 1200,\n",
    "  \"profit\": 14796\n",
    "}\n",
    "```\n",
    "\n",
    "#### HINT: \n",
    "$profit = (v2 - v1) \\times v3$"
   ]
  },
  {
   "cell_type": "code",
   "execution_count": 402,
   "metadata": {
    "collapsed": false
   },
   "outputs": [
    {
     "name": "stdin",
     "output_type": "stream",
     "text": [
      "Enter a cost: 32.67\n",
      "Enter a price: 45\n",
      "Enter a quantity: 1200\n"
     ]
    },
    {
     "name": "stdout",
     "output_type": "stream",
     "text": [
      "14796\n",
      "{'cost_price': (), 'sell_price': (), 'inventory': (), 'profit': 14796.0}\n"
     ]
    }
   ],
   "source": [
    "import math \n",
    "# Sara - write your code here\n",
    "\n",
    "cost_price = ()\n",
    "sell_price = ()\n",
    "inventory = ()\n",
    "\n",
    "#define dictionaries\n",
    "prod_dict = {\n",
    "  \"cost_price\": cost_price,\n",
    "  \"sell_price\": sell_price,\n",
    "  \"inventory\": inventory \n",
    "}\n",
    "\n",
    "#PUT USER INPUT CODE HERE\n",
    "cost_price = input(\"Enter a cost:\")\n",
    "sell_price = input(\"Enter a price:\")\n",
    "inventory = input(\"Enter a quantity:\")\n",
    "\n",
    "#define function\n",
    "#def profit_calc(cost_price, sell_price, inventory):\n",
    "\n",
    "#calc_profit = (sell_price - cost_price) * inventory\n",
    "profit = (float(sell_price)-float(cost_price)) * int(inventory)\n",
    "    #return(profit)\n",
    "#print(profit)\n",
    "prod_dict[\"profit\"]=round(profit,2)\n",
    "       \n",
    "\n",
    "print(round(profit)) \n",
    "\n",
    "#append profit_calc to prod_dict\n",
    "print(prod_dict)\n",
    "\n"
   ]
  },
  {
   "cell_type": "code",
   "execution_count": 403,
   "metadata": {},
   "outputs": [
    {
     "name": "stdout",
     "output_type": "stream",
     "text": [
      "12396.0\n"
     ]
    }
   ],
   "source": [
    "#test logic\n",
    "profit = round((45-34.67) * 1200, 2)\n",
    "print(profit)"
   ]
  },
  {
   "cell_type": "markdown",
   "metadata": {},
   "source": [
    "## Q5. Coding Problem\n",
    "\n",
    "You are tasked to write a function (`findall_lst()`) to find __all__ the indexes of the searched item in a list. \n",
    "\n",
    "We know we can use `.find()` method to search a list, but it will only return the __first__ index not __all__ of them.\n",
    "\n",
    "#### Examples: \n",
    "- findall_lst(([\"a\", \"a\", \"b\", \"a\", \"b\", \"a\"], \"a\") ➞ [0, 1, 3, 5]\n",
    "- findall_lst([1, 5, 5, 2, 7], 7) ➞ [4]\n",
    "- findall_lst([1, 5, 5, 2, 7], 8) ➞ []"
   ]
  },
  {
   "cell_type": "code",
   "execution_count": 404,
   "metadata": {},
   "outputs": [
    {
     "name": "stdout",
     "output_type": "stream",
     "text": [
      "[3, 5]\n"
     ]
    }
   ],
   "source": [
    "#write a function to find all indexes of a searched item in a list\n",
    "def findall_lst(): #define function\n",
    "    my_lst = [1,6,89,4,8,4,6] #define my list\n",
    "    my_search = 4 # define my search number\n",
    "    search_results = [x for x, n in enumerate(my_lst) if n == my_search]\n",
    "    print(search_results)\n",
    "    \n",
    "findall_lst()"
   ]
  },
  {
   "cell_type": "code",
   "execution_count": 405,
   "metadata": {},
   "outputs": [
    {
     "data": {
      "text/plain": [
       "['a', 'b', 'b', 'c', 'a', 'c']"
      ]
     },
     "execution_count": 405,
     "metadata": {},
     "output_type": "execute_result"
    }
   ],
   "source": [
    "#this does not work as intended\n",
    "my_lst = [\"a\", \"b\", \"b\", \"c\", \"a\", \"c\"]\n",
    "my_search = [\"c\"]\n",
    "\n",
    "# solution 1\n",
    "def findall_lst(my_lst, my_search):\n",
    "    return [my_search for my_search in my_lst if my_search in my_search]\n",
    "    \n",
    "findall_lst(my_lst, my_search)"
   ]
  },
  {
   "cell_type": "code",
   "execution_count": 406,
   "metadata": {
    "collapsed": true
   },
   "outputs": [
    {
     "name": "stdout",
     "output_type": "stream",
     "text": [
      "['a', 'b', 'b', 'c', 'a', 'c']\n"
     ]
    }
   ],
   "source": [
    "#this does not work as intended\n",
    "# since the results are lists\n",
    "# initialize an empty list `search_results` to hold results\n",
    "search_results = []\n",
    "\n",
    "for item in my_lst:\n",
    "    search_results.append(item)\n",
    "    \n",
    "print(search_results)\n",
    "        "
   ]
  },
  {
   "cell_type": "code",
   "execution_count": 407,
   "metadata": {},
   "outputs": [
    {
     "name": "stdout",
     "output_type": "stream",
     "text": [
      "1\n",
      "3\n",
      "5\n",
      "7\n",
      "9\n"
     ]
    }
   ],
   "source": [
    "#this does not work as intended - trying to find similar logic\n",
    "list = [1, 3, 5, 7, 9] \n",
    "   \n",
    "# Using for loop \n",
    "for i in list: \n",
    "    print(i) "
   ]
  },
  {
   "cell_type": "code",
   "execution_count": 408,
   "metadata": {},
   "outputs": [
    {
     "name": "stdout",
     "output_type": "stream",
     "text": [
      "[1, 2, 4, 6, 8]\n"
     ]
    }
   ],
   "source": [
    "#this does not do what I want it to\n",
    "my_lst = [1, 2, 4, 6, 8]\n",
    "my_search = my_lst.index(2)\n",
    "print(my_lst)"
   ]
  },
  {
   "cell_type": "markdown",
   "metadata": {},
   "source": [
    "## Q6. Coding Problem\n",
    "\n",
    "### The Karaca's Encryption Algorithm:\n",
    "\n",
    "Make a function (`karaca_encoder`) that encrypts a given input with these steps:\n",
    "\n",
    "- Input: `'Apple'` # you should test that all inputs are strings\n",
    "- Step 1: set everything to lowercase and reverse the string `'elppa'`, code snippet below can help with reversing a string:\n",
    "```python\n",
    "s = 'abc'\n",
    "''.join(reversed(s))  # 'cba'\n",
    "```\n",
    "\n",
    "- Step 2: replace all vowels using following table, so the input becomes `'1lpp0'`:\n",
    "\n",
    "| vowel | code |\n",
    "| ----- | ---- |\n",
    "| a | 0 |\n",
    "| e | 1 |\n",
    "| i | 2 |\n",
    "| o | 3 |\n",
    "| u | 4 |\n",
    "\n",
    "\n",
    "- Step 3: add `'aca'` to the end of the string, so the string becomes `'1lpp0aca'`\n",
    "- Voila! Return this string `'1lpp0aca'` as the encoded.\n",
    "\n",
    "#### Examples:\n",
    "- karaca_encoder(\"banana\") ➞ \"0n0n0baca\"\n",
    "- karaca_encoder(\"karaca\") ➞ \"0c0r0kaca\"\n",
    "- karaca_encoder(\"burak\") ➞ \"k0r3baca\"\n",
    "- karaca_encoder(\"alpaca\") ➞ \"0c0pl0aca\""
   ]
  },
  {
   "cell_type": "code",
   "execution_count": 409,
   "metadata": {
    "collapsed": true
   },
   "outputs": [
    {
     "name": "stdin",
     "output_type": "stream",
     "text": [
      "Enter a word:  Alpaca\n"
     ]
    }
   ],
   "source": [
    "# Write your code here\n",
    "#method one\n",
    "#enter your word\n",
    "input_wrd = input(\"Enter a word: \").lower()\n",
    "\n"
   ]
  },
  {
   "cell_type": "code",
   "execution_count": 410,
   "metadata": {},
   "outputs": [
    {
     "name": "stdout",
     "output_type": "stream",
     "text": [
      "{'a': '0', 'e': '1', 'i': '2', 'o': '3', 'u': '4'}\n"
     ]
    }
   ],
   "source": [
    "#define dictionary\n",
    "karaca = {\n",
    "    \"a\" : '0',\n",
    "    \"e\" : '1',\n",
    "    \"i\" : '2',\n",
    "    \"o\" : '3',\n",
    "    \"u\" : '4'\n",
    "    }\n",
    "print(karaca)"
   ]
  },
  {
   "cell_type": "code",
   "execution_count": 411,
   "metadata": {},
   "outputs": [
    {
     "name": "stdout",
     "output_type": "stream",
     "text": [
      "0c0pl0aca\n"
     ]
    }
   ],
   "source": [
    "output_wrd = ''\n",
    "\n",
    "for letter in input_wrd:\n",
    "    if letter in karaca:\n",
    "        output_wrd += karaca[letter].lower()\n",
    "    else:\n",
    "        output_wrd += (letter)\n",
    "        \n",
    "        \n",
    "print(''.join(reversed(output_wrd))+'aca')"
   ]
  },
  {
   "cell_type": "code",
   "execution_count": 412,
   "metadata": {},
   "outputs": [
    {
     "name": "stdout",
     "output_type": "stream",
     "text": [
      "k0r4baca\n"
     ]
    }
   ],
   "source": [
    "# method 2\n",
    "\n",
    "input_wrd = 'burak'\n",
    "output_wrd = ''\n",
    "\n",
    "for x in input_wrd:\n",
    "    if x in karaca:\n",
    "        output_wrd += karaca[x]\n",
    "    else:\n",
    "        output_wrd += x\n",
    "        \n",
    "print(''.join(reversed(output_wrd))+'aca')"
   ]
  },
  {
   "cell_type": "markdown",
   "metadata": {},
   "source": [
    "# Q7. Coding Problem\n",
    "## Closed Brackets Detector - Extra Problem\n",
    "_if you want a little tease, this is a real interview question_. This problem will require you to put everything you learned so far in this class together.\n",
    "\n",
    "You have noticed that Jupyter can help you detect unclosed parentheses, for instance:\n",
    "```python\n",
    "list(str(type(x for x in range(l))) \n",
    "```\n",
    "will give you an error.\n",
    "\n",
    "In this question, you are going to replicate a simpler example of it.\n",
    "\n",
    "Your task in this exercise is as follows (two functions, one embed in another):\n",
    "\n",
    "1. Create a function that generates a string with N opening brackets (`[`) and N closing brackets (`]`), in some arbitrary order.\n",
    "2. Create a function that determines whether the generated string is balanced; that is, whether it consists entirely of pairs of opening/closing brackets (in that order), none of which mis-nest.\n",
    "\n",
    "Requirements:\n",
    "* Your test sequence of brackets need to be (`2,20`) digits long.\n",
    "* You need to generate at least `8` sequences \n",
    "\n",
    "Expected Output:\n",
    "```\n",
    "   []        OK   ][        NOT OK\n",
    "   [][]      OK   ][][      NOT OK\n",
    "   [[][]]    OK   []][[]    NOT OK\n",
    "```"
   ]
  },
  {
   "cell_type": "code",
   "execution_count": 413,
   "metadata": {},
   "outputs": [
    {
     "name": "stdout",
     "output_type": "stream",
     "text": [
      "6\n"
     ]
    }
   ],
   "source": [
    "# Write your code here\n",
    "#generate random number\n",
    "import random\n",
    "rand_rand = random.randint(2,20)\n",
    "print(rand_rand)"
   ]
  },
  {
   "cell_type": "code",
   "execution_count": 414,
   "metadata": {},
   "outputs": [
    {
     "name": "stdout",
     "output_type": "stream",
     "text": [
      "]]][[[\n"
     ]
    }
   ],
   "source": [
    "#generate random brackets based on random numbers\n",
    "\n",
    "import random\n",
    "random_brackets = ''.join([random.choice('[]') for n in range (rand_rand)])\n",
    "\n",
    "print(random_brackets)\n",
    " \n",
    "# modified from https://www.geeksforgeeks.org/check-for-balanced-parentheses-in-python/"
   ]
  },
  {
   "cell_type": "code",
   "execution_count": 415,
   "metadata": {},
   "outputs": [
    {
     "name": "stdout",
     "output_type": "stream",
     "text": [
      "]]][[[ - Not OK\n"
     ]
    }
   ],
   "source": [
    "# Python3 code to Check for balanced parentheses in an expression \n",
    "open_list = [\"[\"] \n",
    "close_list = [\"]\"] \n",
    "  \n",
    "# Function to check parentheses\n",
    "def check(random_brackets): \n",
    "    stack = [] \n",
    "    for i in random_brackets: \n",
    "        if i in open_list: \n",
    "            stack.append(i) \n",
    "        elif i in close_list: \n",
    "            pos = close_list.index(i) \n",
    "            if ((len(stack) > 0) and\n",
    "                (open_list[pos] == stack[len(stack)-1])): \n",
    "                stack.pop() \n",
    "            else: \n",
    "                return \"Not OK\"\n",
    "    if len(stack) == 0: \n",
    "        return \"OK\"\n",
    "    \n",
    "print(random_brackets,\"-\", check(random_brackets))   \n"
   ]
  }
 ],
 "metadata": {
  "kernelspec": {
   "display_name": "Python 3",
   "language": "python",
   "name": "python3"
  },
  "language_info": {
   "codemirror_mode": {
    "name": "ipython",
    "version": 3
   },
   "file_extension": ".py",
   "mimetype": "text/x-python",
   "name": "python",
   "nbconvert_exporter": "python",
   "pygments_lexer": "ipython3",
   "version": "3.6.7"
  }
 },
 "nbformat": 4,
 "nbformat_minor": 2
}
